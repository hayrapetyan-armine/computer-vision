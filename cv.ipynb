{
 "cells": [
  {
   "cell_type": "markdown",
   "metadata": {},
   "source": [
    "### bilinear interpolation"
   ]
  },
  {
   "cell_type": "code",
   "execution_count": 27,
   "metadata": {},
   "outputs": [],
   "source": [
    "from math import (ceil, floor)"
   ]
  },
  {
   "cell_type": "code",
   "execution_count": 33,
   "metadata": {},
   "outputs": [],
   "source": [
    "def bilinear_interpolate(x, y, img):\n",
    "    x2 = int(ceil(x))\n",
    "    x1 = int(floor(x))\n",
    "    y2 = int(ceil(y))\n",
    "    y1 = int(floor(y))\n",
    "    \n",
    "    if x2 >= img.shape[0] or y2 >= img.shape[1]:\n",
    "        return 0\n",
    "    \n",
    "    diff_x = x2 - x1\n",
    "    diff_y = y2 - y1\n",
    "    \n",
    "    interpolate_x_y1 = -((x - x2) / (diff_x)) * img[x1, y1] + ((x - x1) / (diff_x)) * img[x2, y1]\n",
    "    interpolate_x_y2 = -((x - x2) / (diff_x)) * img[x1, y2] + ((x - x1) / (diff_x)) * img[x2, y2]\n",
    "    imterpolate_y = -((y - y2) / (diff_y)) * interpolate_x_y1 + ((y - y1) / (diff_y)) * interpolate_x_y2\n",
    "    \n",
    "    return imterpolate_y"
   ]
  },
  {
   "cell_type": "code",
   "execution_count": 35,
   "metadata": {},
   "outputs": [],
   "source": [
    "def nearest_neighbor_interpolate(x, y, img):\n",
    "    return img[int(x), int(y)]"
   ]
  },
  {
   "cell_type": "markdown",
   "metadata": {},
   "source": [
    "### rotation"
   ]
  },
  {
   "cell_type": "code",
   "execution_count": 4,
   "metadata": {},
   "outputs": [],
   "source": [
    "import numpy as np\n",
    "import cv2"
   ]
  },
  {
   "cell_type": "code",
   "execution_count": 23,
   "metadata": {},
   "outputs": [],
   "source": [
    "img = cv2.imread('khatiko.jpg')\n",
    "grayed_image = cv2.cvtColor(img, cv2.COLOR_BGR2GRAY)"
   ]
  },
  {
   "cell_type": "code",
   "execution_count": 36,
   "metadata": {},
   "outputs": [],
   "source": [
    "def rotate(img, alpha):\n",
    "    \n",
    "    A_alpha = np.array([[np.cos(alpha), -np.sin(alpha)], [np.sin(alpha), np.cos(alpha)]])\n",
    "    A_alpha_inv = np.linalg.inv(A_alpha)\n",
    "    \n",
    "    H, W = img.shape\n",
    "    \n",
    "    A_p = np.zeros_like(img)\n",
    "    \n",
    "    for i in range(H):\n",
    "        for j in range(W):\n",
    "            uniform_arr = [(2*i + 1) / (2*H), (2*j + 1) / (2*W)]\n",
    "            x, y = np.dot(A_alpha_inv, uniform_arr)\n",
    "            \n",
    "            if 0 <= x < 1 and 0 <= y < 1:\n",
    "                #A_p[i, j] = bilinear_interpolate(x*H, y*W, img)  #img[int(x * H), int(y * W)]\n",
    "                A_p[i, j] = nearest_neighbor_interpolate(x*H, y*W, img)\n",
    "                \n",
    "    \n",
    "    return A_p"
   ]
  },
  {
   "cell_type": "code",
   "execution_count": 14,
   "metadata": {},
   "outputs": [],
   "source": [
    "def rotate_3_channels(img, alpha, b = [0, 0]):\n",
    "    A_alpha = np.array([[np.cos(alpha), -np.sin(alpha)],\n",
    "                     [np.sin(alpha), np.cos(alpha)]])\n",
    "  \n",
    "    A_alpha_inv = np.linalg.inv(A_alpha)\n",
    "  \n",
    "    H, W, C = img.shape\n",
    "    A_p = np.zeros_like(img)\n",
    "  \n",
    "    for i in range(H):\n",
    "        for j in range(W):\n",
    "            for k in range(C):\n",
    "                x, y = np.dot(A_alpha_inv, [(2 * i + 1) / (2 * H) - b[0], (2 * j + 1) / (2 * W) - b[1]])\n",
    "                x, y = x + b[0], y + b[1]\n",
    "                if 0 <= x < 1 and 0 <= y < 1:\n",
    "                    print('x = ', 'y = ')\n",
    "                    A_p[i, j, k] = img[int(x*H), int(y*W), k]\n",
    "  \n",
    "    return A_p"
   ]
  },
  {
   "cell_type": "code",
   "execution_count": 37,
   "metadata": {},
   "outputs": [
    {
     "data": {
      "text/plain": [
       "True"
      ]
     },
     "execution_count": 37,
     "metadata": {},
     "output_type": "execute_result"
    }
   ],
   "source": [
    "cv2.imwrite('khatiko_rotated.jpg', rotate(grayed_image, np.deg2rad(40)))"
   ]
  },
  {
   "cell_type": "code",
   "execution_count": 40,
   "metadata": {},
   "outputs": [],
   "source": [
    "def resize_img(img, shape):\n",
    "    H_n, W_n = shape\n",
    "    H, W = img.shape\n",
    "    \n",
    "    A_p = np.zeros(shape)\n",
    "    \n",
    "    for i in range(H_n):\n",
    "        for j in range(W_n):\n",
    "            x, y = (2*i + 1) / (2*H_n), (2*j + 1) / (2*W_n)\n",
    "            A_p[i, j] = bilinear_interpolate(x)\n",
    "            #nearest_neighbor_interpolate(x*H, y*W, img)\n",
    "    \n",
    "    return A_p"
   ]
  },
  {
   "cell_type": "code",
   "execution_count": 41,
   "metadata": {},
   "outputs": [
    {
     "data": {
      "text/plain": [
       "True"
      ]
     },
     "execution_count": 41,
     "metadata": {},
     "output_type": "execute_result"
    }
   ],
   "source": [
    "cv2.imwrite('khatiko_resized.jpg', resize_img(grayed_image, (500, 500)))"
   ]
  },
  {
   "cell_type": "markdown",
   "metadata": {},
   "source": [
    "### erosion"
   ]
  },
  {
   "cell_type": "code",
   "execution_count": 1,
   "metadata": {},
   "outputs": [],
   "source": [
    "import numpy as np\n",
    "from scipy import ndimage"
   ]
  },
  {
   "cell_type": "code",
   "execution_count": 2,
   "metadata": {},
   "outputs": [],
   "source": [
    "input_array = np.ones((7,7), dtype=np.int)\n",
    "input_array[3,0] = 0\n",
    "input_array[1,3:5] = 0"
   ]
  },
  {
   "cell_type": "code",
   "execution_count": 3,
   "metadata": {},
   "outputs": [
    {
     "data": {
      "text/plain": [
       "array([[1, 1, 1, 1, 1, 1, 1],\n",
       "       [1, 1, 1, 0, 0, 1, 1],\n",
       "       [1, 1, 1, 1, 1, 1, 1],\n",
       "       [0, 1, 1, 1, 1, 1, 1],\n",
       "       [1, 1, 1, 1, 1, 1, 1],\n",
       "       [1, 1, 1, 1, 1, 1, 1],\n",
       "       [1, 1, 1, 1, 1, 1, 1]])"
      ]
     },
     "execution_count": 3,
     "metadata": {},
     "output_type": "execute_result"
    }
   ],
   "source": [
    "input_array"
   ]
  },
  {
   "cell_type": "code",
   "execution_count": 4,
   "metadata": {},
   "outputs": [],
   "source": [
    "structure = np.ones((3,3), dtype=np.int)"
   ]
  },
  {
   "cell_type": "code",
   "execution_count": 5,
   "metadata": {},
   "outputs": [
    {
     "data": {
      "text/plain": [
       "array([[False, False, False, False, False, False, False],\n",
       "       [False,  True, False, False, False, False, False],\n",
       "       [False, False, False, False, False, False, False],\n",
       "       [False, False,  True,  True,  True,  True, False],\n",
       "       [False, False,  True,  True,  True,  True, False],\n",
       "       [False,  True,  True,  True,  True,  True, False],\n",
       "       [False, False, False, False, False, False, False]])"
      ]
     },
     "execution_count": 5,
     "metadata": {},
     "output_type": "execute_result"
    }
   ],
   "source": [
    "ndimage.binary_erosion(input_array, structure)"
   ]
  },
  {
   "cell_type": "code",
   "execution_count": 6,
   "metadata": {},
   "outputs": [
    {
     "data": {
      "text/plain": [
       "array([[0, 0, 0, 0, 0, 0, 0, 0, 0],\n",
       "       [0, 0, 0, 0, 0, 0, 0, 0, 0],\n",
       "       [0, 0, 0, 0, 0, 0, 0, 0, 0],\n",
       "       [0, 0, 0, 0, 0, 0, 0, 0, 0],\n",
       "       [0, 0, 0, 0, 0, 0, 0, 0, 0],\n",
       "       [0, 0, 0, 0, 0, 0, 0, 0, 0],\n",
       "       [0, 0, 0, 0, 0, 0, 0, 0, 0],\n",
       "       [0, 0, 0, 0, 0, 0, 0, 0, 0],\n",
       "       [0, 0, 0, 0, 0, 0, 0, 0, 0]])"
      ]
     },
     "execution_count": 6,
     "metadata": {},
     "output_type": "execute_result"
    }
   ],
   "source": [
    "pad_array = np.zeros((9,9), dtype=np.int)\n",
    "pad_array"
   ]
  },
  {
   "cell_type": "code",
   "execution_count": 7,
   "metadata": {},
   "outputs": [
    {
     "data": {
      "text/plain": [
       "array([[0, 0, 0, 0, 0, 0, 0, 0, 0],\n",
       "       [0, 1, 1, 1, 1, 1, 1, 1, 0],\n",
       "       [0, 1, 1, 1, 0, 0, 1, 1, 0],\n",
       "       [0, 1, 1, 1, 1, 1, 1, 1, 0],\n",
       "       [0, 0, 1, 1, 1, 1, 1, 1, 0],\n",
       "       [0, 1, 1, 1, 1, 1, 1, 1, 0],\n",
       "       [0, 1, 1, 1, 1, 1, 1, 1, 0],\n",
       "       [0, 1, 1, 1, 1, 1, 1, 1, 0],\n",
       "       [0, 0, 0, 0, 0, 0, 0, 0, 0]])"
      ]
     },
     "execution_count": 7,
     "metadata": {},
     "output_type": "execute_result"
    }
   ],
   "source": [
    "pad_array[1:-1,1:-1] = input_array\n",
    "pad_array"
   ]
  },
  {
   "cell_type": "code",
   "execution_count": 16,
   "metadata": {},
   "outputs": [],
   "source": [
    "def np_binary_erosion(input_array, structure=np.ones((3,3)).astype(np.bool)):\n",
    "    '''NumPy binary erosion function\n",
    "     \n",
    "    No error checking on input array (type)\n",
    "    No error checking on structure element (# of dimensions, shape, type, etc.)\n",
    "     \n",
    "    Args:\n",
    "    input_array: Binary NumPy array to be eroded. Non-zero (True) elements\n",
    "        form the subset to be eroded\n",
    "    structure: Structuring element used for the erosion. Non-zero elements\n",
    "        are considered True. If no structuring element is provided, an\n",
    "        element is generated with a square connectivity equal to two \n",
    "        (square, not cross).\n",
    "    Returns:\n",
    "        binary_erosion: Erosion of the input by the stucturing element\n",
    "    '''\n",
    "    rows, cols = input_array.shape\n",
    "     \n",
    "    ## Pad output array (binary_erosion) with extra cells around the edge\n",
    "    ## so that structuring element will fit without wrapping.\n",
    "    ## A 3x3 structure, will need 1 additional cell around the edge\n",
    "    ## A 5x5 structure, will need 2 additional cells around the edge\n",
    "    \n",
    "    input_shape, structure_shape = input_array.shape, structure.shape\n",
    "    \n",
    "    pad_shape = (\n",
    "        input_shape[0] + structure_shape[0] - 1, \n",
    "        input_shape[1] + structure.shape[1] - 1)\n",
    "    input_pad_array = np.zeros(pad_shape).astype(np.bool)\n",
    "    input_pad_array[1:rows+1,1:cols+1] = input_array\n",
    "    binary_erosion = np.zeros(pad_shape).astype(np.bool)\n",
    "     \n",
    "    ## Cast structure element to boolean\n",
    "    struc_mask = structure.astype(np.bool)\n",
    "\n",
    "    ## Iterate over each cell\n",
    "    for row in range(rows):\n",
    "        for col in range(cols):\n",
    "            ## The value of the output pixel is the minimum value of all the\n",
    "            ## pixels in the input pixel's neighborhood.\n",
    "            print('input_pad_array', input_pad_array[row:row+3, col:col+3])\n",
    "            print('struc_mask', struc_mask)\n",
    "            print('res', input_pad_array[row:row+3, col:col+3][struc_mask])\n",
    "            binary_erosion[row+1,col+1] = np.min(\n",
    "                input_pad_array[row:row+3, col:col+3][struc_mask])\n",
    "    return binary_erosion[1:rows+1,1:cols+1]"
   ]
  },
  {
   "cell_type": "code",
   "execution_count": 17,
   "metadata": {},
   "outputs": [
    {
     "name": "stdout",
     "output_type": "stream",
     "text": [
      "input_pad_array [[False False False]\n",
      " [False  True  True]\n",
      " [False  True  True]]\n",
      "struc_mask [[ True  True  True]\n",
      " [ True  True  True]\n",
      " [ True  True  True]]\n",
      "res [False False False False  True  True False  True  True]\n",
      "input_pad_array [[False False False]\n",
      " [ True  True  True]\n",
      " [ True  True  True]]\n",
      "struc_mask [[ True  True  True]\n",
      " [ True  True  True]\n",
      " [ True  True  True]]\n",
      "res [False False False  True  True  True  True  True  True]\n",
      "input_pad_array [[False False False]\n",
      " [ True  True  True]\n",
      " [ True  True False]]\n",
      "struc_mask [[ True  True  True]\n",
      " [ True  True  True]\n",
      " [ True  True  True]]\n",
      "res [False False False  True  True  True  True  True False]\n",
      "input_pad_array [[False False False]\n",
      " [ True  True  True]\n",
      " [ True False False]]\n",
      "struc_mask [[ True  True  True]\n",
      " [ True  True  True]\n",
      " [ True  True  True]]\n",
      "res [False False False  True  True  True  True False False]\n",
      "input_pad_array [[False False False]\n",
      " [ True  True  True]\n",
      " [False False  True]]\n",
      "struc_mask [[ True  True  True]\n",
      " [ True  True  True]\n",
      " [ True  True  True]]\n",
      "res [False False False  True  True  True False False  True]\n",
      "input_pad_array [[False False False]\n",
      " [ True  True  True]\n",
      " [False  True  True]]\n",
      "struc_mask [[ True  True  True]\n",
      " [ True  True  True]\n",
      " [ True  True  True]]\n",
      "res [False False False  True  True  True False  True  True]\n",
      "input_pad_array [[False False False]\n",
      " [ True  True False]\n",
      " [ True  True False]]\n",
      "struc_mask [[ True  True  True]\n",
      " [ True  True  True]\n",
      " [ True  True  True]]\n",
      "res [False False False  True  True False  True  True False]\n",
      "input_pad_array [[False  True  True]\n",
      " [False  True  True]\n",
      " [False  True  True]]\n",
      "struc_mask [[ True  True  True]\n",
      " [ True  True  True]\n",
      " [ True  True  True]]\n",
      "res [False  True  True False  True  True False  True  True]\n",
      "input_pad_array [[ True  True  True]\n",
      " [ True  True  True]\n",
      " [ True  True  True]]\n",
      "struc_mask [[ True  True  True]\n",
      " [ True  True  True]\n",
      " [ True  True  True]]\n",
      "res [ True  True  True  True  True  True  True  True  True]\n",
      "input_pad_array [[ True  True  True]\n",
      " [ True  True False]\n",
      " [ True  True  True]]\n",
      "struc_mask [[ True  True  True]\n",
      " [ True  True  True]\n",
      " [ True  True  True]]\n",
      "res [ True  True  True  True  True False  True  True  True]\n",
      "input_pad_array [[ True  True  True]\n",
      " [ True False False]\n",
      " [ True  True  True]]\n",
      "struc_mask [[ True  True  True]\n",
      " [ True  True  True]\n",
      " [ True  True  True]]\n",
      "res [ True  True  True  True False False  True  True  True]\n",
      "input_pad_array [[ True  True  True]\n",
      " [False False  True]\n",
      " [ True  True  True]]\n",
      "struc_mask [[ True  True  True]\n",
      " [ True  True  True]\n",
      " [ True  True  True]]\n",
      "res [ True  True  True False False  True  True  True  True]\n",
      "input_pad_array [[ True  True  True]\n",
      " [False  True  True]\n",
      " [ True  True  True]]\n",
      "struc_mask [[ True  True  True]\n",
      " [ True  True  True]\n",
      " [ True  True  True]]\n",
      "res [ True  True  True False  True  True  True  True  True]\n",
      "input_pad_array [[ True  True False]\n",
      " [ True  True False]\n",
      " [ True  True False]]\n",
      "struc_mask [[ True  True  True]\n",
      " [ True  True  True]\n",
      " [ True  True  True]]\n",
      "res [ True  True False  True  True False  True  True False]\n",
      "input_pad_array [[False  True  True]\n",
      " [False  True  True]\n",
      " [False False  True]]\n",
      "struc_mask [[ True  True  True]\n",
      " [ True  True  True]\n",
      " [ True  True  True]]\n",
      "res [False  True  True False  True  True False False  True]\n",
      "input_pad_array [[ True  True  True]\n",
      " [ True  True  True]\n",
      " [False  True  True]]\n",
      "struc_mask [[ True  True  True]\n",
      " [ True  True  True]\n",
      " [ True  True  True]]\n",
      "res [ True  True  True  True  True  True False  True  True]\n",
      "input_pad_array [[ True  True False]\n",
      " [ True  True  True]\n",
      " [ True  True  True]]\n",
      "struc_mask [[ True  True  True]\n",
      " [ True  True  True]\n",
      " [ True  True  True]]\n",
      "res [ True  True False  True  True  True  True  True  True]\n",
      "input_pad_array [[ True False False]\n",
      " [ True  True  True]\n",
      " [ True  True  True]]\n",
      "struc_mask [[ True  True  True]\n",
      " [ True  True  True]\n",
      " [ True  True  True]]\n",
      "res [ True False False  True  True  True  True  True  True]\n",
      "input_pad_array [[False False  True]\n",
      " [ True  True  True]\n",
      " [ True  True  True]]\n",
      "struc_mask [[ True  True  True]\n",
      " [ True  True  True]\n",
      " [ True  True  True]]\n",
      "res [False False  True  True  True  True  True  True  True]\n",
      "input_pad_array [[False  True  True]\n",
      " [ True  True  True]\n",
      " [ True  True  True]]\n",
      "struc_mask [[ True  True  True]\n",
      " [ True  True  True]\n",
      " [ True  True  True]]\n",
      "res [False  True  True  True  True  True  True  True  True]\n",
      "input_pad_array [[ True  True False]\n",
      " [ True  True False]\n",
      " [ True  True False]]\n",
      "struc_mask [[ True  True  True]\n",
      " [ True  True  True]\n",
      " [ True  True  True]]\n",
      "res [ True  True False  True  True False  True  True False]\n",
      "input_pad_array [[False  True  True]\n",
      " [False False  True]\n",
      " [False  True  True]]\n",
      "struc_mask [[ True  True  True]\n",
      " [ True  True  True]\n",
      " [ True  True  True]]\n",
      "res [False  True  True False False  True False  True  True]\n",
      "input_pad_array [[ True  True  True]\n",
      " [False  True  True]\n",
      " [ True  True  True]]\n",
      "struc_mask [[ True  True  True]\n",
      " [ True  True  True]\n",
      " [ True  True  True]]\n",
      "res [ True  True  True False  True  True  True  True  True]\n",
      "input_pad_array [[ True  True  True]\n",
      " [ True  True  True]\n",
      " [ True  True  True]]\n",
      "struc_mask [[ True  True  True]\n",
      " [ True  True  True]\n",
      " [ True  True  True]]\n",
      "res [ True  True  True  True  True  True  True  True  True]\n",
      "input_pad_array [[ True  True  True]\n",
      " [ True  True  True]\n",
      " [ True  True  True]]\n",
      "struc_mask [[ True  True  True]\n",
      " [ True  True  True]\n",
      " [ True  True  True]]\n",
      "res [ True  True  True  True  True  True  True  True  True]\n",
      "input_pad_array [[ True  True  True]\n",
      " [ True  True  True]\n",
      " [ True  True  True]]\n",
      "struc_mask [[ True  True  True]\n",
      " [ True  True  True]\n",
      " [ True  True  True]]\n",
      "res [ True  True  True  True  True  True  True  True  True]\n",
      "input_pad_array [[ True  True  True]\n",
      " [ True  True  True]\n",
      " [ True  True  True]]\n",
      "struc_mask [[ True  True  True]\n",
      " [ True  True  True]\n",
      " [ True  True  True]]\n",
      "res [ True  True  True  True  True  True  True  True  True]\n",
      "input_pad_array [[ True  True False]\n",
      " [ True  True False]\n",
      " [ True  True False]]\n",
      "struc_mask [[ True  True  True]\n",
      " [ True  True  True]\n",
      " [ True  True  True]]\n",
      "res [ True  True False  True  True False  True  True False]\n",
      "input_pad_array [[False False  True]\n",
      " [False  True  True]\n",
      " [False  True  True]]\n",
      "struc_mask [[ True  True  True]\n",
      " [ True  True  True]\n",
      " [ True  True  True]]\n",
      "res [False False  True False  True  True False  True  True]\n",
      "input_pad_array [[False  True  True]\n",
      " [ True  True  True]\n",
      " [ True  True  True]]\n",
      "struc_mask [[ True  True  True]\n",
      " [ True  True  True]\n",
      " [ True  True  True]]\n",
      "res [False  True  True  True  True  True  True  True  True]\n",
      "input_pad_array [[ True  True  True]\n",
      " [ True  True  True]\n",
      " [ True  True  True]]\n",
      "struc_mask [[ True  True  True]\n",
      " [ True  True  True]\n",
      " [ True  True  True]]\n",
      "res [ True  True  True  True  True  True  True  True  True]\n",
      "input_pad_array [[ True  True  True]\n",
      " [ True  True  True]\n",
      " [ True  True  True]]\n",
      "struc_mask [[ True  True  True]\n",
      " [ True  True  True]\n",
      " [ True  True  True]]\n",
      "res [ True  True  True  True  True  True  True  True  True]\n",
      "input_pad_array [[ True  True  True]\n",
      " [ True  True  True]\n",
      " [ True  True  True]]\n",
      "struc_mask [[ True  True  True]\n",
      " [ True  True  True]\n",
      " [ True  True  True]]\n",
      "res [ True  True  True  True  True  True  True  True  True]\n",
      "input_pad_array [[ True  True  True]\n",
      " [ True  True  True]\n",
      " [ True  True  True]]\n",
      "struc_mask [[ True  True  True]\n",
      " [ True  True  True]\n",
      " [ True  True  True]]\n",
      "res [ True  True  True  True  True  True  True  True  True]\n",
      "input_pad_array [[ True  True False]\n",
      " [ True  True False]\n",
      " [ True  True False]]\n",
      "struc_mask [[ True  True  True]\n",
      " [ True  True  True]\n",
      " [ True  True  True]]\n",
      "res [ True  True False  True  True False  True  True False]\n",
      "input_pad_array [[False  True  True]\n",
      " [False  True  True]\n",
      " [False  True  True]]\n",
      "struc_mask [[ True  True  True]\n",
      " [ True  True  True]\n",
      " [ True  True  True]]\n",
      "res [False  True  True False  True  True False  True  True]\n",
      "input_pad_array [[ True  True  True]\n",
      " [ True  True  True]\n",
      " [ True  True  True]]\n",
      "struc_mask [[ True  True  True]\n",
      " [ True  True  True]\n",
      " [ True  True  True]]\n",
      "res [ True  True  True  True  True  True  True  True  True]\n",
      "input_pad_array [[ True  True  True]\n",
      " [ True  True  True]\n",
      " [ True  True  True]]\n",
      "struc_mask [[ True  True  True]\n",
      " [ True  True  True]\n",
      " [ True  True  True]]\n",
      "res [ True  True  True  True  True  True  True  True  True]\n",
      "input_pad_array [[ True  True  True]\n",
      " [ True  True  True]\n",
      " [ True  True  True]]\n",
      "struc_mask [[ True  True  True]\n",
      " [ True  True  True]\n",
      " [ True  True  True]]\n",
      "res [ True  True  True  True  True  True  True  True  True]\n",
      "input_pad_array [[ True  True  True]\n",
      " [ True  True  True]\n",
      " [ True  True  True]]\n",
      "struc_mask [[ True  True  True]\n",
      " [ True  True  True]\n",
      " [ True  True  True]]\n",
      "res [ True  True  True  True  True  True  True  True  True]\n",
      "input_pad_array [[ True  True  True]\n",
      " [ True  True  True]\n",
      " [ True  True  True]]\n",
      "struc_mask [[ True  True  True]\n",
      " [ True  True  True]\n",
      " [ True  True  True]]\n",
      "res [ True  True  True  True  True  True  True  True  True]\n",
      "input_pad_array [[ True  True False]\n",
      " [ True  True False]\n",
      " [ True  True False]]\n",
      "struc_mask [[ True  True  True]\n",
      " [ True  True  True]\n",
      " [ True  True  True]]\n",
      "res [ True  True False  True  True False  True  True False]\n",
      "input_pad_array [[False  True  True]\n",
      " [False  True  True]\n",
      " [False False False]]\n",
      "struc_mask [[ True  True  True]\n",
      " [ True  True  True]\n",
      " [ True  True  True]]\n",
      "res [False  True  True False  True  True False False False]\n",
      "input_pad_array [[ True  True  True]\n",
      " [ True  True  True]\n",
      " [False False False]]\n",
      "struc_mask [[ True  True  True]\n",
      " [ True  True  True]\n",
      " [ True  True  True]]\n",
      "res [ True  True  True  True  True  True False False False]\n",
      "input_pad_array [[ True  True  True]\n",
      " [ True  True  True]\n",
      " [False False False]]\n",
      "struc_mask [[ True  True  True]\n",
      " [ True  True  True]\n",
      " [ True  True  True]]\n",
      "res [ True  True  True  True  True  True False False False]\n",
      "input_pad_array [[ True  True  True]\n",
      " [ True  True  True]\n",
      " [False False False]]\n",
      "struc_mask [[ True  True  True]\n",
      " [ True  True  True]\n",
      " [ True  True  True]]\n",
      "res [ True  True  True  True  True  True False False False]\n",
      "input_pad_array [[ True  True  True]\n",
      " [ True  True  True]\n",
      " [False False False]]\n",
      "struc_mask [[ True  True  True]\n",
      " [ True  True  True]\n",
      " [ True  True  True]]\n",
      "res [ True  True  True  True  True  True False False False]\n",
      "input_pad_array [[ True  True  True]\n",
      " [ True  True  True]\n",
      " [False False False]]\n",
      "struc_mask [[ True  True  True]\n",
      " [ True  True  True]\n",
      " [ True  True  True]]\n",
      "res [ True  True  True  True  True  True False False False]\n",
      "input_pad_array [[ True  True False]\n",
      " [ True  True False]\n",
      " [False False False]]\n",
      "struc_mask [[ True  True  True]\n",
      " [ True  True  True]\n",
      " [ True  True  True]]\n",
      "res [ True  True False  True  True False False False False]\n"
     ]
    },
    {
     "data": {
      "text/plain": [
       "array([[0, 0, 0, 0, 0, 0, 0],\n",
       "       [0, 1, 0, 0, 0, 0, 0],\n",
       "       [0, 0, 0, 0, 0, 0, 0],\n",
       "       [0, 0, 1, 1, 1, 1, 0],\n",
       "       [0, 0, 1, 1, 1, 1, 0],\n",
       "       [0, 1, 1, 1, 1, 1, 0],\n",
       "       [0, 0, 0, 0, 0, 0, 0]])"
      ]
     },
     "execution_count": 17,
     "metadata": {},
     "output_type": "execute_result"
    }
   ],
   "source": [
    "np_binary_erosion(input_array, structure).astype(np.int)"
   ]
  },
  {
   "cell_type": "code",
   "execution_count": null,
   "metadata": {},
   "outputs": [],
   "source": [
    "def dilation(img):\n",
    "    \n",
    "    ### Dilation of image: max{a, b} = ( |a-b| + (a+b)) /2\n",
    "    \n",
    "    # deep copy of argument, because of numpy shallow copying property\n",
    "    img = copy.deepcopy(img)\n",
    "    \n",
    "    # pad image by 0-values\n",
    "    img_pad = np.hstack((img, np.zeros((img.shape[0], 1))))\n",
    "    \n",
    "    kernel_1 = np.array([[1,  1]])\n",
    "    kernel_2 = np.array([[1, -1]])\n",
    "    \n",
    "    s = convolve2d(img_pad, kernel_1, boundary='symm', mode='same')\n",
    "    b = convolve2d(img_pad, kernel_2, boundary='symm', mode='same')\n",
    "\n",
    "            \n",
    "    return (np.abs(b) + s) / 2"
   ]
  },
  {
   "cell_type": "code",
   "execution_count": null,
   "metadata": {},
   "outputs": [],
   "source": [
    "def erosion(img):\n",
    "    \n",
    "    #### Erosion of image: min{a, b} = ( - |a-b| + (a+b) ) /2\n",
    "    \n",
    "    # deep copy of argument, because of numpy shallow copying property\n",
    "    img = copy.deepcopy(img)\n",
    "    \n",
    "    # pad image by 0-values\n",
    "    img_pad = np.hstack((img, np.zeros((img.shape[0], 1))))\n",
    "    \n",
    "    kernel_1 = np.array([[1,  1]])\n",
    "    kernel_2 = np.array([[1, -1]])\n",
    "    \n",
    "    s = convolve2d(img_pad, kernel_1, boundary='symm', mode='same')\n",
    "    b = convolve2d(img_pad, kernel_2, boundary='symm', mode='same')\n",
    "            \n",
    "    return (- np.abs(b) + s) / 2"
   ]
  }
 ],
 "metadata": {
  "kernelspec": {
   "display_name": "Python 3",
   "language": "python",
   "name": "python3"
  },
  "language_info": {
   "codemirror_mode": {
    "name": "ipython",
    "version": 3
   },
   "file_extension": ".py",
   "mimetype": "text/x-python",
   "name": "python",
   "nbconvert_exporter": "python",
   "pygments_lexer": "ipython3",
   "version": "3.5.2"
  }
 },
 "nbformat": 4,
 "nbformat_minor": 2
}
