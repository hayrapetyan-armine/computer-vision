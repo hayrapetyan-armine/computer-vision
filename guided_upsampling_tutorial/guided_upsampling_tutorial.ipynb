{
 "cells": [
  {
   "cell_type": "markdown",
   "metadata": {},
   "source": [
    "# Guided Upsampling with Guided Image Filtering"
   ]
  },
  {
   "cell_type": "markdown",
   "metadata": {},
   "source": [
    "### In this tutorial you will \n",
    "\n",
    " - #### implement guided image filtering, described in the paper http://kaiminghe.com/publications/pami12guidedfilter.pdf\n",
    " - #### use your guided image filtering implementation for guided image upsampling"
   ]
  },
  {
   "cell_type": "markdown",
   "metadata": {},
   "source": [
    "##### Let's recall what is guided image filtering."
   ]
  },
  {
   "cell_type": "markdown",
   "metadata": {},
   "source": [
    "Let $I, p\\in \\mathbb{R}^{H\\times W}$ be some $\\textit{grayscaled}$ images. The output of guided image filtering with parameters\n",
    "- window radius = $r$\n",
    "- epsilon = $\\varepsilon$\n",
    "\n",
    "is also an image of the same size - $q\\in \\mathbb{R}^{H\\times W}$, which is given by the following formula\n",
    "\n",
    "$$\n",
    "q_i = \\overline{a}_i \\cdot I_i + \\overline{b}_i, \\quad \\mbox{for each image pixel    } i\\in \\{1,2,\\ldots,H\\cdot W\\}\n",
    "$$\n",
    "\n",
    "where \n",
    "\n",
    "$$\n",
    "\\overline{a}_i = \\frac{1}{|\\omega_i|}\\sum_{k\\in \\omega_i}a_k, \\quad\n",
    "\\overline{b}_i = \\frac{1}{|\\omega_i|}\\sum_{k\\in \\omega_i}b_k,\n",
    "$$\n",
    "\n",
    "$$\n",
    "a_k = \\frac{\\frac{1}{|\\omega_k|}\\sum_{j\\in \\omega_k}I_j p_j - \\mu_k \\overline{p}_k}{\\sigma^2_k + \\varepsilon},\\qquad\n",
    "b_k = \\overline{p}_k - a_k\\mu_k\n",
    "$$\n",
    "and\n",
    "$$\n",
    "\\omega_k \\; \\mbox{is the window of radius }\\; r \\; \\mbox{ centered in the pixel } \\; k \\; \\mbox{ for each } \\; k\\in \\{1,2,\\ldots,H\\cdot W\\},\n",
    "$$\n",
    "\n",
    "$$\n",
    "\\mu_k \\; \\mbox{and} \\; \\sigma_k \\; \\mbox{are the mean and standard deviation of the image} \\; I \\; \\mbox{in the window} \\; \\omega_k \\; \\mbox{respectively},\n",
    "$$\n",
    "\n",
    "$$\n",
    "\\overline{p}_k \\; \\mbox{is the mean of the image} \\; p \\; \\mbox{in the window} \\; \\omega_k.\n",
    "$$"
   ]
  },
  {
   "cell_type": "markdown",
   "metadata": {},
   "source": [
    "#### We refer to the images $p, q$ and $I$ as $input, output$ and $guidance$ images respectively."
   ]
  },
  {
   "cell_type": "markdown",
   "metadata": {},
   "source": [
    "Let's try to implement guided image filtering function."
   ]
  },
  {
   "cell_type": "code",
   "execution_count": 1,
   "metadata": {},
   "outputs": [],
   "source": [
    "from skimage.io import imread, imsave\n",
    "from skimage.transform import resize\n",
    "from scipy.signal import convolve2d\n",
    "import matplotlib.pyplot as plt\n",
    "%matplotlib inline\n",
    "import numpy as np\n",
    "\n",
    "from glob import glob\n",
    "from time import time\n",
    "import os"
   ]
  },
  {
   "cell_type": "code",
   "execution_count": null,
   "metadata": {},
   "outputs": [],
   "source": [
    "def guided_filter(I, p, radius = 3, eps = 1e-6):\n",
    "    k_size = radius * 2 + 1 # TODO Obtain the kernel_size for \"average blur\" convolution\n",
    "    kernel = np.ones((k_size, k_size)) / (k_size ** 2) # TODO Obtain the kernel for \"average blur\" convolution\n",
    "    \n",
    "#     E_p = (1 / len(kernel)) * \n",
    "    \n",
    "    cov = np.dot(I, p) # TODO Obtain the covariance of the images I and p in the window \\omega. Recall that cov(X,Y) = E(XY)-E(X)E(Y)\n",
    "    \n",
    "    var = 0 # TODO Obtain the variance of the image I in the window \\omega. Recall that var(X) = cov(X,X) = E(X^2)-(E(X))^2\n",
    "    \n",
    "    # Computing the image a\n",
    "    a = cov / (var + eps)\n",
    "    \n",
    "    # Computing the image b\n",
    "    b = E_p - a*E_I\n",
    "    \n",
    "    a_ = 0 # TODO Compute the image a_\n",
    "    b_ = 0 # TODO Compute the image b_\n",
    "    \n",
    "    # Computing the output image q\n",
    "    q = a_ * I + b_\n",
    "    \n",
    "    # Let's return a_, b_, and q\n",
    "    return a_, b_, q"
   ]
  },
  {
   "cell_type": "markdown",
   "metadata": {},
   "source": [
    "### Now we have done with guided image filtering function! Let's apply it to the upsampling task."
   ]
  },
  {
   "cell_type": "markdown",
   "metadata": {},
   "source": [
    "Let we have an image of high resolution and some \"filtered\" version of it in low resolution. Our goal is to obtain the \"filtered\" version of the initial image in high resolution."
   ]
  },
  {
   "cell_type": "markdown",
   "metadata": {},
   "source": [
    "### Here we assume we have $3-channeled$ images !!!"
   ]
  },
  {
   "cell_type": "markdown",
   "metadata": {},
   "source": [
    "For this let's first denote by $I_H, O_L$ and $O_H$ the high resolution input, low resolution output of \"filter\" and desired high resolution output of \"filter\" respectively. So we need to obtain $O_H$ from $I_H$ and $O_L$. For this we do the following steps:\n",
    "- resize the image $I_H$ to the size of $O_L$,\n",
    "- apply per-channel guided filtering with some (default) parameters $r$ and $\\varepsilon$,\n",
    "- bilinearly resize obtained images $a$ and $b$ (per-channel) to the size of the image $I_H$,\n",
    "- compute with the resized coefficients the linear combination of the initial high resolution image $I_H$ and $1$."
   ]
  },
  {
   "cell_type": "code",
   "execution_count": null,
   "metadata": {},
   "outputs": [],
   "source": [
    "def guided_upsampling(I_H, O_L):\n",
    "    I_res = 0 # TODO Resize the image I_H to the size of O_L\n",
    "    O_H = []\n",
    "    # Append per-channel outputs to the list O_H\n",
    "    for i in range(3):\n",
    "        # TODO obtain for each channel i guided filter coefficients a_ and b_\n",
    "        # TODO resize the 1-channeled coefficient-images a_ and b_ to the size I_H\n",
    "        # TODO obtain the resulting 1-channel image q\n",
    "        \n",
    "        O_H.append(q)\n",
    "        \n",
    "    return np.stack(O_H, axis = -1)"
   ]
  },
  {
   "cell_type": "markdown",
   "metadata": {},
   "source": [
    "### Now let's explore our data by visualizing some points from it."
   ]
  },
  {
   "cell_type": "code",
   "execution_count": null,
   "metadata": {},
   "outputs": [],
   "source": [
    "data_dir = 'guided_up_project_data/'\n",
    "paths_highres = glob(os.path.join(data_dir, 'inp_highres', '*'))\n",
    "'out_lowres'"
   ]
  },
  {
   "cell_type": "code",
   "execution_count": null,
   "metadata": {},
   "outputs": [],
   "source": [
    "for i in range(5):\n",
    "    path_highres = paths_highres[i]\n",
    "    path_lowres = path_highres.replace('inp_highres', 'out_lowres')\n",
    "    im_h = imread(path_highres)/255.\n",
    "    im_l = imread(path_lowres)/255.\n",
    "    \n",
    "    print(im_h.shape[:2], im_l.shape[:2])\n",
    "    plt.figure(figsize = (10,12))\n",
    "    plt.imshow(np.hstack([im_h, resize(im_l, im_h.shape[:2])]))"
   ]
  },
  {
   "cell_type": "markdown",
   "metadata": {},
   "source": [
    "### As you can notice the low resolution output is a \"color adjusted\" version of the high resolution input, but is blury."
   ]
  },
  {
   "cell_type": "markdown",
   "metadata": {},
   "source": [
    "Now let us apply guided upsampling and save the results to the 'out_highres' subdirectory in our data"
   ]
  },
  {
   "cell_type": "code",
   "execution_count": null,
   "metadata": {},
   "outputs": [],
   "source": [
    "for i in range(len(paths_highres)):\n",
    "    path_highres = paths_highres[i]\n",
    "    path_lowres = path_highres.replace('inp_highres', 'out_lowres')\n",
    "    name = os.path.basename(path_highres)\n",
    "    im_h = imread(path_highres)/255.\n",
    "    im_l = imread(path_lowres)/255.\n",
    "    \n",
    "    start = time()\n",
    "    result = guided_upsampling(im_h, im_l)\n",
    "    dur = time() - start\n",
    "    \n",
    "    stacked = np.hstack([im_h, result, resize(im_l, im_h.shape[:2])])\n",
    "    \n",
    "    print('duration of guided upsampling of an image with size '+ str(im_h.shape[:2]) +' was '+ str(dur))\n",
    "    imsave(os.path.join(data_dir, 'results', name), stacked)"
   ]
  },
  {
   "cell_type": "code",
   "execution_count": null,
   "metadata": {},
   "outputs": [],
   "source": []
  }
 ],
 "metadata": {
  "kernelspec": {
   "display_name": "Python 3",
   "language": "python",
   "name": "python3"
  },
  "language_info": {
   "codemirror_mode": {
    "name": "ipython",
    "version": 3
   },
   "file_extension": ".py",
   "mimetype": "text/x-python",
   "name": "python",
   "nbconvert_exporter": "python",
   "pygments_lexer": "ipython3",
   "version": "3.5.2"
  }
 },
 "nbformat": 4,
 "nbformat_minor": 2
}
